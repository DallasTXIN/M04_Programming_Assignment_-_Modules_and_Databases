{
 "cells": [
  {
   "cell_type": "code",
   "execution_count": null,
   "id": "66fabaec",
   "metadata": {},
   "outputs": [],
   "source": [
    "#11.1\n",
    "def hours():\n",
    "    print(\"Open 9-5 daily.\")\n",
    "import zoo\n",
    "zoo.hours()\n",
    "\n",
    "#11.2\n",
    "import zoo as menagerie\n",
    "menagerie.hours()\n",
    "\n",
    "#16.8\n",
    "import sqlalchemy\n",
    "conn = sqlalchemy.create_engine('sqlite:///books.db')\n",
    "sql = 'select title from book order by title asc'\n",
    "rows = conn.execute(sql)\n",
    "for row in rows:\n",
    "    print(row)"
   ]
  }
 ],
 "metadata": {
  "kernelspec": {
   "display_name": "Python 3 (ipykernel)",
   "language": "python",
   "name": "python3"
  },
  "language_info": {
   "codemirror_mode": {
    "name": "ipython",
    "version": 3
   },
   "file_extension": ".py",
   "mimetype": "text/x-python",
   "name": "python",
   "nbconvert_exporter": "python",
   "pygments_lexer": "ipython3",
   "version": "3.9.13"
  }
 },
 "nbformat": 4,
 "nbformat_minor": 5
}
